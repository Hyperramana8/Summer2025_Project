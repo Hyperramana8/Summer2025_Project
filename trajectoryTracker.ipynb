{
 "cells": [
  {
   "cell_type": "markdown",
   "id": "48b6baff",
   "metadata": {},
   "source": [
    "# Trajectory Tracker Project"
   ]
  },
  {
   "cell_type": "markdown",
   "id": "390ee5c0",
   "metadata": {},
   "source": [
    "# Step 1: Create a physics model that can calculate trajectories based on inputs"
   ]
  },
  {
   "cell_type": "code",
   "execution_count": null,
   "id": "6ddd9cb2",
   "metadata": {},
   "outputs": [
    {
     "name": "stdout",
     "output_type": "stream",
     "text": [
      "Requirement already satisfied: opencv-python in /Users/ramanamanivannan/Documents/.venv/lib/python3.13/site-packages (4.11.0.86)\n",
      "Requirement already satisfied: numpy>=1.21.2 in /Users/ramanamanivannan/Documents/.venv/lib/python3.13/site-packages (from opencv-python) (2.2.6)\n",
      "Note: you may need to restart the kernel to use updated packages.\n"
     ]
    }
   ],
   "source": [
    "\n",
    "import math\n",
    "import cv2\n",
    "import numpy as np"
   ]
  },
  {
   "cell_type": "code",
   "execution_count": null,
   "id": "d8a369e4",
   "metadata": {},
   "outputs": [],
   "source": []
  }
 ],
 "metadata": {
  "kernelspec": {
   "display_name": ".venv",
   "language": "python",
   "name": "python3"
  },
  "language_info": {
   "codemirror_mode": {
    "name": "ipython",
    "version": 3
   },
   "file_extension": ".py",
   "mimetype": "text/x-python",
   "name": "python",
   "nbconvert_exporter": "python",
   "pygments_lexer": "ipython3",
   "version": "3.13.3"
  }
 },
 "nbformat": 4,
 "nbformat_minor": 5
}
